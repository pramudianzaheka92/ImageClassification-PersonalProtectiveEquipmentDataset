{
 "cells": [
  {
   "cell_type": "code",
   "execution_count": 49,
   "id": "7d8a737c",
   "metadata": {},
   "outputs": [],
   "source": [
    "import pandas as pd\n",
    "import matplotlib.pyplot as plt\n",
    "import seaborn as sns\n",
    "import numpy as np\n",
    "import tensorflow as tf\n",
    "from tensorflow import keras\n",
    "from PIL import Image\n",
    "import cv2\n",
    "from glob import *"
   ]
  },
  {
   "cell_type": "code",
   "execution_count": 60,
   "id": "b9603787",
   "metadata": {},
   "outputs": [],
   "source": [
    "data= \"New folder (2)/train/images\""
   ]
  },
  {
   "cell_type": "code",
   "execution_count": 61,
   "id": "deead8f0",
   "metadata": {},
   "outputs": [],
   "source": [
    "PPE_images = glob(data + \"/*\")"
   ]
  },
  {
   "cell_type": "code",
   "execution_count": 62,
   "id": "c6905727",
   "metadata": {},
   "outputs": [
    {
     "name": "stdout",
     "output_type": "stream",
     "text": [
      "Jumlah Total Data pada Label Gambar Gerakan Tangan Rock:  4965 \n",
      "\n"
     ]
    }
   ],
   "source": [
    "print(\"Jumlah Total Data pada Label Gambar Gerakan Tangan Rock: \", len(PPE_images), \"\\n\")"
   ]
  },
  {
   "cell_type": "code",
   "execution_count": null,
   "id": "af7adb91",
   "metadata": {},
   "outputs": [],
   "source": []
  }
 ],
 "metadata": {
  "kernelspec": {
   "display_name": "Python 3 (ipykernel)",
   "language": "python",
   "name": "python3"
  },
  "language_info": {
   "codemirror_mode": {
    "name": "ipython",
    "version": 3
   },
   "file_extension": ".py",
   "mimetype": "text/x-python",
   "name": "python",
   "nbconvert_exporter": "python",
   "pygments_lexer": "ipython3",
   "version": "3.9.12"
  }
 },
 "nbformat": 4,
 "nbformat_minor": 5
}
