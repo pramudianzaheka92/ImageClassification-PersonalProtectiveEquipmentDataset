{
 "cells": [
  {
   "cell_type": "code",
   "execution_count": 83,
   "id": "7d8a737c",
   "metadata": {},
   "outputs": [],
   "source": [
    "\"\"\"\n",
    "Melakukan proses deklarasi/meng-import library-library yang akan digunakan\n",
    "selama proses klasifikasi data gambar kelengkapan APD/Alat Pelindung Diri\n",
    "\"\"\"\n",
    "import pandas as pd\n",
    "import matplotlib.pyplot as plt\n",
    "plt.style.use(\"seaborn\")\n",
    "import seaborn as sns\n",
    "import numpy as np\n",
    "import tensorflow as tf\n",
    "from tensorflow import keras\n",
    "from PIL import Image\n",
    "import cv2\n",
    "from glob import *\n",
    "import os\n",
    "from tensorflow.keras.preprocessing.image import ImageDataGenerator\n",
    "from tensorflow.keras.models import Sequential\n",
    "from keras.layers import Dense, Flatten, BatchNormalization, Dropout\n",
    "from keras.optimizers import SGD\n",
    "from sklearn.metrics import confusion_matrix, classification_report"
   ]
  },
  {
   "cell_type": "code",
   "execution_count": 84,
   "id": "b9603787",
   "metadata": {},
   "outputs": [],
   "source": [
    "\"\"\"\n",
    "Melakukan proses pemanggilan seluruh data gambar dari kedua label yang ada di dalam folder\n",
    "\"Personal_Protective_Equipment_Dataset\" yaitu label \"Workers with PPE\" dan label \"Workers without PPE\"\n",
    "dan seluruh data gambar dari kedua label tersebut disimpan\n",
    "di dalam variabel DataFrame yakni \"PPE_images_dataset\" dan \"Without_PPE_images_dataset\"\n",
    "\"\"\"\n",
    "PPE_images_dataset = \"Personal_Protective_Equipment_Dataset/Workers with PPE\"\n",
    "without_PPE_images_dataset = \"Personal_Protective_Equipment_Dataset/Workers without PPE\""
   ]
  },
  {
   "cell_type": "code",
   "execution_count": 85,
   "id": "deead8f0",
   "metadata": {},
   "outputs": [],
   "source": [
    "\"\"\"\n",
    "Memanggil semua gambar dari kedua label/kategori dengan seluruh\n",
    "eksistensi gambar (.png/.jpg/.jpeg) tanpa terkecuali,\n",
    "baik data-data gambar pekerja yang menggunakan Alat Pelindung Diri (APD)\n",
    "dan pekerja yang tidak/kurang lengkap dalam menggunakan Alat Pelindung Diri (APD)\n",
    "\"\"\"\n",
    "complete_ppe_images = glob(PPE_images_dataset + \"/*\")\n",
    "not_complete_ppe_images = glob(without_PPE_images_dataset + \"/*\")"
   ]
  },
  {
   "cell_type": "markdown",
   "id": "a54c4d1f",
   "metadata": {},
   "source": [
    "Berdasarkan script diatas terdapat sebuah karakter spesial \"/*\" yang ditulis di dalam module glob. Module glob berfungsi untuk mencari dan mencocokkan data berdasarkan eksistensi format file dari data tersebut.\n",
    "\n",
    "Sebagai contoh jika di dalam modul glob, saya ingin menginisialisasikan/memanggil seluruh data gambar yang hanya berformat .PNG, maka saya harus membuat nama tujuan (pathname menjadi \"/*.png\" di dalam module glob. Jika saya hanya ingin memanggil seluruh data gambar yang hanya memiliki format .JPG, maka saya harus mendeklarasikan pathname menjadi \"/*.JPG\""
   ]
  },
  {
   "cell_type": "code",
   "execution_count": 86,
   "id": "c6905727",
   "metadata": {},
   "outputs": [
    {
     "name": "stdout",
     "output_type": "stream",
     "text": [
      "Jumlah Data Gambar di dalam Label Workers with Complete PPE:  1000 \n",
      "\n",
      "Jumlah Data Gambar di dalam Label Workers without or Not Complete PPE:  1000\n"
     ]
    }
   ],
   "source": [
    "\"\"\"\n",
    "Menampilkan jumlah data dari masing-masing label\n",
    "(pekerja yang lengkap dan tidak lengkap dalam menggunakan Personal Protective Equipment)\n",
    "berdasarkan variabel yang didalamnya sudah terdapat data-data gambar dari setiap label \n",
    "\"\"\"\n",
    "print(\"Jumlah Data Gambar di dalam Label Workers with Complete PPE: \", len(complete_ppe_images), \"\\n\")\n",
    "\n",
    "print(\"Jumlah Data Gambar di dalam Label Workers without or Not Complete PPE: \", len(not_complete_ppe_images))"
   ]
  },
  {
   "cell_type": "code",
   "execution_count": null,
   "id": "de8c0ceb",
   "metadata": {},
   "outputs": [],
   "source": []
  }
 ],
 "metadata": {
  "kernelspec": {
   "display_name": "Python 3 (ipykernel)",
   "language": "python",
   "name": "python3"
  },
  "language_info": {
   "codemirror_mode": {
    "name": "ipython",
    "version": 3
   },
   "file_extension": ".py",
   "mimetype": "text/x-python",
   "name": "python",
   "nbconvert_exporter": "python",
   "pygments_lexer": "ipython3",
   "version": "3.9.12"
  }
 },
 "nbformat": 4,
 "nbformat_minor": 5
}
